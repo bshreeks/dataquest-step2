{
 "cells": [
  {
   "cell_type": "markdown",
   "metadata": {},
   "source": [
    "# Storytelling Data Visualization on Exchange Rates"
   ]
  },
  {
   "cell_type": "markdown",
   "metadata": {},
   "source": [
    "##  Intoduction "
   ]
  },
  {
   "cell_type": "markdown",
   "metadata": {},
   "source": [
    "The project we will be working in here consists of euro daily exchange rate for various contries between the years 1999 and 2021 (euro is the official currency in most of countries of the European Union). The objective of this project is to find how the euro exchange rate varies with time between different countries (especially with American dollar). The link to the original data is here __[Link](https://www.kaggle.com/lsind18/euro-exchange-daily-rates-19992020)__."
   ]
  },
  {
   "cell_type": "markdown",
   "metadata": {},
   "source": [
    "The dataset describes *euro daily exchage rates between 1999 and 2021*. The dataset contains *5699 rows* and *41 columns*. The first column contains the *date* in *yyyy-mm-dd* format and the rest of 40 columns contain the *euro exchage rates of different currencies*. Of all the columns, 3 are *float type* and rest are in *string format*. Few columns (~ 17) in the dataset have *null values*."
   ]
  },
  {
   "cell_type": "code",
   "execution_count": 25,
   "metadata": {},
   "outputs": [
    {
     "data": {
      "text/html": [
       "<div>\n",
       "<style scoped>\n",
       "    .dataframe tbody tr th:only-of-type {\n",
       "        vertical-align: middle;\n",
       "    }\n",
       "\n",
       "    .dataframe tbody tr th {\n",
       "        vertical-align: top;\n",
       "    }\n",
       "\n",
       "    .dataframe thead th {\n",
       "        text-align: right;\n",
       "    }\n",
       "</style>\n",
       "<table border=\"1\" class=\"dataframe\">\n",
       "  <thead>\n",
       "    <tr style=\"text-align: right;\">\n",
       "      <th></th>\n",
       "      <th>Period\\Unit:</th>\n",
       "      <th>[Australian dollar ]</th>\n",
       "      <th>[Bulgarian lev ]</th>\n",
       "      <th>[Brazilian real ]</th>\n",
       "      <th>[Canadian dollar ]</th>\n",
       "      <th>[Swiss franc ]</th>\n",
       "      <th>[Chinese yuan renminbi ]</th>\n",
       "      <th>[Cypriot pound ]</th>\n",
       "      <th>[Czech koruna ]</th>\n",
       "      <th>[Danish krone ]</th>\n",
       "      <th>...</th>\n",
       "      <th>[Romanian leu ]</th>\n",
       "      <th>[Russian rouble ]</th>\n",
       "      <th>[Swedish krona ]</th>\n",
       "      <th>[Singapore dollar ]</th>\n",
       "      <th>[Slovenian tolar ]</th>\n",
       "      <th>[Slovak koruna ]</th>\n",
       "      <th>[Thai baht ]</th>\n",
       "      <th>[Turkish lira ]</th>\n",
       "      <th>[US dollar ]</th>\n",
       "      <th>[South African rand ]</th>\n",
       "    </tr>\n",
       "  </thead>\n",
       "  <tbody>\n",
       "    <tr>\n",
       "      <th>0</th>\n",
       "      <td>2021-01-08</td>\n",
       "      <td>1.5758</td>\n",
       "      <td>1.9558</td>\n",
       "      <td>6.5748</td>\n",
       "      <td>1.5543</td>\n",
       "      <td>1.0827</td>\n",
       "      <td>7.9184</td>\n",
       "      <td>NaN</td>\n",
       "      <td>26.163</td>\n",
       "      <td>7.4369</td>\n",
       "      <td>...</td>\n",
       "      <td>4.8708</td>\n",
       "      <td>90.8000</td>\n",
       "      <td>10.0510</td>\n",
       "      <td>1.6228</td>\n",
       "      <td>NaN</td>\n",
       "      <td>NaN</td>\n",
       "      <td>36.8480</td>\n",
       "      <td>9.0146</td>\n",
       "      <td>1.2250</td>\n",
       "      <td>18.7212</td>\n",
       "    </tr>\n",
       "    <tr>\n",
       "      <th>1</th>\n",
       "      <td>2021-01-07</td>\n",
       "      <td>1.5836</td>\n",
       "      <td>1.9558</td>\n",
       "      <td>6.5172</td>\n",
       "      <td>1.5601</td>\n",
       "      <td>1.0833</td>\n",
       "      <td>7.9392</td>\n",
       "      <td>NaN</td>\n",
       "      <td>26.147</td>\n",
       "      <td>7.4392</td>\n",
       "      <td>...</td>\n",
       "      <td>4.8712</td>\n",
       "      <td>91.2000</td>\n",
       "      <td>10.0575</td>\n",
       "      <td>1.6253</td>\n",
       "      <td>NaN</td>\n",
       "      <td>NaN</td>\n",
       "      <td>36.8590</td>\n",
       "      <td>8.9987</td>\n",
       "      <td>1.2276</td>\n",
       "      <td>18.7919</td>\n",
       "    </tr>\n",
       "    <tr>\n",
       "      <th>2</th>\n",
       "      <td>2021-01-06</td>\n",
       "      <td>1.5824</td>\n",
       "      <td>1.9558</td>\n",
       "      <td>6.5119</td>\n",
       "      <td>1.5640</td>\n",
       "      <td>1.0821</td>\n",
       "      <td>7.9653</td>\n",
       "      <td>NaN</td>\n",
       "      <td>26.145</td>\n",
       "      <td>7.4393</td>\n",
       "      <td>...</td>\n",
       "      <td>4.8720</td>\n",
       "      <td>90.8175</td>\n",
       "      <td>10.0653</td>\n",
       "      <td>1.6246</td>\n",
       "      <td>NaN</td>\n",
       "      <td>NaN</td>\n",
       "      <td>36.9210</td>\n",
       "      <td>9.0554</td>\n",
       "      <td>1.2338</td>\n",
       "      <td>18.5123</td>\n",
       "    </tr>\n",
       "    <tr>\n",
       "      <th>3</th>\n",
       "      <td>2021-01-05</td>\n",
       "      <td>1.5927</td>\n",
       "      <td>1.9558</td>\n",
       "      <td>6.5517</td>\n",
       "      <td>1.5651</td>\n",
       "      <td>1.0803</td>\n",
       "      <td>7.9315</td>\n",
       "      <td>NaN</td>\n",
       "      <td>26.227</td>\n",
       "      <td>7.4387</td>\n",
       "      <td>...</td>\n",
       "      <td>4.8721</td>\n",
       "      <td>91.6715</td>\n",
       "      <td>10.0570</td>\n",
       "      <td>1.6180</td>\n",
       "      <td>NaN</td>\n",
       "      <td>NaN</td>\n",
       "      <td>36.7760</td>\n",
       "      <td>9.0694</td>\n",
       "      <td>1.2271</td>\n",
       "      <td>18.4194</td>\n",
       "    </tr>\n",
       "    <tr>\n",
       "      <th>4</th>\n",
       "      <td>2021-01-04</td>\n",
       "      <td>1.5928</td>\n",
       "      <td>1.9558</td>\n",
       "      <td>6.3241</td>\n",
       "      <td>1.5621</td>\n",
       "      <td>1.0811</td>\n",
       "      <td>7.9484</td>\n",
       "      <td>NaN</td>\n",
       "      <td>26.141</td>\n",
       "      <td>7.4379</td>\n",
       "      <td>...</td>\n",
       "      <td>4.8713</td>\n",
       "      <td>90.3420</td>\n",
       "      <td>10.0895</td>\n",
       "      <td>1.6198</td>\n",
       "      <td>NaN</td>\n",
       "      <td>NaN</td>\n",
       "      <td>36.7280</td>\n",
       "      <td>9.0579</td>\n",
       "      <td>1.2296</td>\n",
       "      <td>17.9214</td>\n",
       "    </tr>\n",
       "  </tbody>\n",
       "</table>\n",
       "<p>5 rows × 41 columns</p>\n",
       "</div>"
      ],
      "text/plain": [
       "  Period\\Unit: [Australian dollar ] [Bulgarian lev ] [Brazilian real ]  \\\n",
       "0   2021-01-08               1.5758           1.9558            6.5748   \n",
       "1   2021-01-07               1.5836           1.9558            6.5172   \n",
       "2   2021-01-06               1.5824           1.9558            6.5119   \n",
       "3   2021-01-05               1.5927           1.9558            6.5517   \n",
       "4   2021-01-04               1.5928           1.9558            6.3241   \n",
       "\n",
       "  [Canadian dollar ] [Swiss franc ] [Chinese yuan renminbi ] [Cypriot pound ]  \\\n",
       "0             1.5543         1.0827                   7.9184              NaN   \n",
       "1             1.5601         1.0833                   7.9392              NaN   \n",
       "2             1.5640         1.0821                   7.9653              NaN   \n",
       "3             1.5651         1.0803                   7.9315              NaN   \n",
       "4             1.5621         1.0811                   7.9484              NaN   \n",
       "\n",
       "  [Czech koruna ] [Danish krone ]  ... [Romanian leu ] [Russian rouble ]  \\\n",
       "0          26.163          7.4369  ...          4.8708           90.8000   \n",
       "1          26.147          7.4392  ...          4.8712           91.2000   \n",
       "2          26.145          7.4393  ...          4.8720           90.8175   \n",
       "3          26.227          7.4387  ...          4.8721           91.6715   \n",
       "4          26.141          7.4379  ...          4.8713           90.3420   \n",
       "\n",
       "  [Swedish krona ] [Singapore dollar ] [Slovenian tolar ] [Slovak koruna ]  \\\n",
       "0          10.0510              1.6228                NaN              NaN   \n",
       "1          10.0575              1.6253                NaN              NaN   \n",
       "2          10.0653              1.6246                NaN              NaN   \n",
       "3          10.0570              1.6180                NaN              NaN   \n",
       "4          10.0895              1.6198                NaN              NaN   \n",
       "\n",
       "  [Thai baht ] [Turkish lira ] [US dollar ]  [South African rand ]  \n",
       "0      36.8480          9.0146       1.2250                18.7212  \n",
       "1      36.8590          8.9987       1.2276                18.7919  \n",
       "2      36.9210          9.0554       1.2338                18.5123  \n",
       "3      36.7760          9.0694       1.2271                18.4194  \n",
       "4      36.7280          9.0579       1.2296                17.9214  \n",
       "\n",
       "[5 rows x 41 columns]"
      ]
     },
     "execution_count": 25,
     "metadata": {},
     "output_type": "execute_result"
    }
   ],
   "source": [
    "import pandas as pd\n",
    "import numpy as np\n",
    "exchange_rates = pd.read_csv('euro-daily-hist_1999_2020.csv')\n",
    "exchange_rates.head()"
   ]
  },
  {
   "cell_type": "code",
   "execution_count": 26,
   "metadata": {},
   "outputs": [
    {
     "data": {
      "text/html": [
       "<div>\n",
       "<style scoped>\n",
       "    .dataframe tbody tr th:only-of-type {\n",
       "        vertical-align: middle;\n",
       "    }\n",
       "\n",
       "    .dataframe tbody tr th {\n",
       "        vertical-align: top;\n",
       "    }\n",
       "\n",
       "    .dataframe thead th {\n",
       "        text-align: right;\n",
       "    }\n",
       "</style>\n",
       "<table border=\"1\" class=\"dataframe\">\n",
       "  <thead>\n",
       "    <tr style=\"text-align: right;\">\n",
       "      <th></th>\n",
       "      <th>Period\\Unit:</th>\n",
       "      <th>[Australian dollar ]</th>\n",
       "      <th>[Bulgarian lev ]</th>\n",
       "      <th>[Brazilian real ]</th>\n",
       "      <th>[Canadian dollar ]</th>\n",
       "      <th>[Swiss franc ]</th>\n",
       "      <th>[Chinese yuan renminbi ]</th>\n",
       "      <th>[Cypriot pound ]</th>\n",
       "      <th>[Czech koruna ]</th>\n",
       "      <th>[Danish krone ]</th>\n",
       "      <th>...</th>\n",
       "      <th>[Romanian leu ]</th>\n",
       "      <th>[Russian rouble ]</th>\n",
       "      <th>[Swedish krona ]</th>\n",
       "      <th>[Singapore dollar ]</th>\n",
       "      <th>[Slovenian tolar ]</th>\n",
       "      <th>[Slovak koruna ]</th>\n",
       "      <th>[Thai baht ]</th>\n",
       "      <th>[Turkish lira ]</th>\n",
       "      <th>[US dollar ]</th>\n",
       "      <th>[South African rand ]</th>\n",
       "    </tr>\n",
       "  </thead>\n",
       "  <tbody>\n",
       "    <tr>\n",
       "      <th>5694</th>\n",
       "      <td>1999-01-08</td>\n",
       "      <td>1.8406</td>\n",
       "      <td>NaN</td>\n",
       "      <td>NaN</td>\n",
       "      <td>1.7643</td>\n",
       "      <td>1.6138</td>\n",
       "      <td>NaN</td>\n",
       "      <td>0.58187</td>\n",
       "      <td>34.938</td>\n",
       "      <td>7.4433</td>\n",
       "      <td>...</td>\n",
       "      <td>1.3143</td>\n",
       "      <td>27.2075</td>\n",
       "      <td>9.1650</td>\n",
       "      <td>1.9537</td>\n",
       "      <td>188.8400</td>\n",
       "      <td>42.560</td>\n",
       "      <td>42.5590</td>\n",
       "      <td>0.3718</td>\n",
       "      <td>1.1659</td>\n",
       "      <td>6.7855</td>\n",
       "    </tr>\n",
       "    <tr>\n",
       "      <th>5695</th>\n",
       "      <td>1999-01-07</td>\n",
       "      <td>1.8474</td>\n",
       "      <td>NaN</td>\n",
       "      <td>NaN</td>\n",
       "      <td>1.7602</td>\n",
       "      <td>1.6165</td>\n",
       "      <td>NaN</td>\n",
       "      <td>0.58187</td>\n",
       "      <td>34.886</td>\n",
       "      <td>7.4431</td>\n",
       "      <td>...</td>\n",
       "      <td>1.3092</td>\n",
       "      <td>26.9876</td>\n",
       "      <td>9.1800</td>\n",
       "      <td>1.9436</td>\n",
       "      <td>188.8000</td>\n",
       "      <td>42.765</td>\n",
       "      <td>42.1678</td>\n",
       "      <td>0.3701</td>\n",
       "      <td>1.1632</td>\n",
       "      <td>6.8283</td>\n",
       "    </tr>\n",
       "    <tr>\n",
       "      <th>5696</th>\n",
       "      <td>1999-01-06</td>\n",
       "      <td>1.8820</td>\n",
       "      <td>NaN</td>\n",
       "      <td>NaN</td>\n",
       "      <td>1.7711</td>\n",
       "      <td>1.6116</td>\n",
       "      <td>NaN</td>\n",
       "      <td>0.58200</td>\n",
       "      <td>34.850</td>\n",
       "      <td>7.4452</td>\n",
       "      <td>...</td>\n",
       "      <td>1.3168</td>\n",
       "      <td>27.4315</td>\n",
       "      <td>9.3050</td>\n",
       "      <td>1.9699</td>\n",
       "      <td>188.7000</td>\n",
       "      <td>42.778</td>\n",
       "      <td>42.6949</td>\n",
       "      <td>0.3722</td>\n",
       "      <td>1.1743</td>\n",
       "      <td>6.7307</td>\n",
       "    </tr>\n",
       "    <tr>\n",
       "      <th>5697</th>\n",
       "      <td>1999-01-05</td>\n",
       "      <td>1.8944</td>\n",
       "      <td>NaN</td>\n",
       "      <td>NaN</td>\n",
       "      <td>1.7965</td>\n",
       "      <td>1.6123</td>\n",
       "      <td>NaN</td>\n",
       "      <td>0.58230</td>\n",
       "      <td>34.917</td>\n",
       "      <td>7.4495</td>\n",
       "      <td>...</td>\n",
       "      <td>1.3168</td>\n",
       "      <td>26.5876</td>\n",
       "      <td>9.4025</td>\n",
       "      <td>1.9655</td>\n",
       "      <td>188.7750</td>\n",
       "      <td>42.848</td>\n",
       "      <td>42.5048</td>\n",
       "      <td>0.3728</td>\n",
       "      <td>1.1790</td>\n",
       "      <td>6.7975</td>\n",
       "    </tr>\n",
       "    <tr>\n",
       "      <th>5698</th>\n",
       "      <td>1999-01-04</td>\n",
       "      <td>1.9100</td>\n",
       "      <td>NaN</td>\n",
       "      <td>NaN</td>\n",
       "      <td>1.8004</td>\n",
       "      <td>1.6168</td>\n",
       "      <td>NaN</td>\n",
       "      <td>0.58231</td>\n",
       "      <td>35.107</td>\n",
       "      <td>7.4501</td>\n",
       "      <td>...</td>\n",
       "      <td>1.3111</td>\n",
       "      <td>25.2875</td>\n",
       "      <td>9.4696</td>\n",
       "      <td>1.9554</td>\n",
       "      <td>189.0450</td>\n",
       "      <td>42.991</td>\n",
       "      <td>42.6799</td>\n",
       "      <td>0.3723</td>\n",
       "      <td>1.1789</td>\n",
       "      <td>6.9358</td>\n",
       "    </tr>\n",
       "  </tbody>\n",
       "</table>\n",
       "<p>5 rows × 41 columns</p>\n",
       "</div>"
      ],
      "text/plain": [
       "     Period\\Unit: [Australian dollar ] [Bulgarian lev ] [Brazilian real ]  \\\n",
       "5694   1999-01-08               1.8406              NaN               NaN   \n",
       "5695   1999-01-07               1.8474              NaN               NaN   \n",
       "5696   1999-01-06               1.8820              NaN               NaN   \n",
       "5697   1999-01-05               1.8944              NaN               NaN   \n",
       "5698   1999-01-04               1.9100              NaN               NaN   \n",
       "\n",
       "     [Canadian dollar ] [Swiss franc ] [Chinese yuan renminbi ]  \\\n",
       "5694             1.7643         1.6138                      NaN   \n",
       "5695             1.7602         1.6165                      NaN   \n",
       "5696             1.7711         1.6116                      NaN   \n",
       "5697             1.7965         1.6123                      NaN   \n",
       "5698             1.8004         1.6168                      NaN   \n",
       "\n",
       "     [Cypriot pound ] [Czech koruna ] [Danish krone ]  ... [Romanian leu ]  \\\n",
       "5694          0.58187          34.938          7.4433  ...          1.3143   \n",
       "5695          0.58187          34.886          7.4431  ...          1.3092   \n",
       "5696          0.58200          34.850          7.4452  ...          1.3168   \n",
       "5697          0.58230          34.917          7.4495  ...          1.3168   \n",
       "5698          0.58231          35.107          7.4501  ...          1.3111   \n",
       "\n",
       "     [Russian rouble ] [Swedish krona ] [Singapore dollar ]  \\\n",
       "5694           27.2075           9.1650              1.9537   \n",
       "5695           26.9876           9.1800              1.9436   \n",
       "5696           27.4315           9.3050              1.9699   \n",
       "5697           26.5876           9.4025              1.9655   \n",
       "5698           25.2875           9.4696              1.9554   \n",
       "\n",
       "     [Slovenian tolar ] [Slovak koruna ] [Thai baht ] [Turkish lira ]  \\\n",
       "5694           188.8400           42.560      42.5590          0.3718   \n",
       "5695           188.8000           42.765      42.1678          0.3701   \n",
       "5696           188.7000           42.778      42.6949          0.3722   \n",
       "5697           188.7750           42.848      42.5048          0.3728   \n",
       "5698           189.0450           42.991      42.6799          0.3723   \n",
       "\n",
       "     [US dollar ]  [South African rand ]  \n",
       "5694       1.1659                 6.7855  \n",
       "5695       1.1632                 6.8283  \n",
       "5696       1.1743                 6.7307  \n",
       "5697       1.1790                 6.7975  \n",
       "5698       1.1789                 6.9358  \n",
       "\n",
       "[5 rows x 41 columns]"
      ]
     },
     "execution_count": 26,
     "metadata": {},
     "output_type": "execute_result"
    }
   ],
   "source": [
    "exchange_rates.tail()"
   ]
  },
  {
   "cell_type": "code",
   "execution_count": 27,
   "metadata": {},
   "outputs": [
    {
     "name": "stdout",
     "output_type": "stream",
     "text": [
      "<class 'pandas.core.frame.DataFrame'>\n",
      "RangeIndex: 5699 entries, 0 to 5698\n",
      "Data columns (total 41 columns):\n",
      " #   Column                    Non-Null Count  Dtype  \n",
      "---  ------                    --------------  -----  \n",
      " 0   Period\\Unit:              5699 non-null   object \n",
      " 1   [Australian dollar ]      5699 non-null   object \n",
      " 2   [Bulgarian lev ]          5297 non-null   object \n",
      " 3   [Brazilian real ]         5431 non-null   object \n",
      " 4   [Canadian dollar ]        5699 non-null   object \n",
      " 5   [Swiss franc ]            5699 non-null   object \n",
      " 6   [Chinese yuan renminbi ]  5431 non-null   object \n",
      " 7   [Cypriot pound ]          2346 non-null   object \n",
      " 8   [Czech koruna ]           5699 non-null   object \n",
      " 9   [Danish krone ]           5699 non-null   object \n",
      " 10  [Estonian kroon ]         3130 non-null   object \n",
      " 11  [UK pound sterling ]      5699 non-null   object \n",
      " 12  [Greek drachma ]          520 non-null    object \n",
      " 13  [Hong Kong dollar ]       5699 non-null   object \n",
      " 14  [Croatian kuna ]          5431 non-null   object \n",
      " 15  [Hungarian forint ]       5699 non-null   object \n",
      " 16  [Indonesian rupiah ]      5699 non-null   object \n",
      " 17  [Israeli shekel ]         5431 non-null   object \n",
      " 18  [Indian rupee ]           5431 non-null   object \n",
      " 19  [Iceland krona ]          3292 non-null   float64\n",
      " 20  [Japanese yen ]           5699 non-null   object \n",
      " 21  [Korean won ]             5699 non-null   object \n",
      " 22  [Lithuanian litas ]       4159 non-null   object \n",
      " 23  [Latvian lats ]           3904 non-null   object \n",
      " 24  [Maltese lira ]           2346 non-null   object \n",
      " 25  [Mexican peso ]           5699 non-null   object \n",
      " 26  [Malaysian ringgit ]      5699 non-null   object \n",
      " 27  [Norwegian krone ]        5699 non-null   object \n",
      " 28  [New Zealand dollar ]     5699 non-null   object \n",
      " 29  [Philippine peso ]        5699 non-null   object \n",
      " 30  [Polish zloty ]           5699 non-null   object \n",
      " 31  [Romanian leu ]           5637 non-null   float64\n",
      " 32  [Russian rouble ]         5699 non-null   object \n",
      " 33  [Swedish krona ]          5699 non-null   object \n",
      " 34  [Singapore dollar ]       5699 non-null   object \n",
      " 35  [Slovenian tolar ]        2085 non-null   object \n",
      " 36  [Slovak koruna ]          2608 non-null   object \n",
      " 37  [Thai baht ]              5699 non-null   object \n",
      " 38  [Turkish lira ]           5637 non-null   float64\n",
      " 39  [US dollar ]              5699 non-null   object \n",
      " 40  [South African rand ]     5699 non-null   object \n",
      "dtypes: float64(3), object(38)\n",
      "memory usage: 1.8+ MB\n"
     ]
    }
   ],
   "source": [
    "#look at the details of each column\n",
    "exchange_rates.info()"
   ]
  },
  {
   "cell_type": "markdown",
   "metadata": {},
   "source": [
    "##  Data Cleaning for the Ease of Analysis"
   ]
  },
  {
   "cell_type": "markdown",
   "metadata": {},
   "source": [
    "Our first objective is to check the trend between *Euro* and *US Dollars*. For this purpose we will begin with cleaning the relevant rows. First we will rename the *[US dollar]* and *Period\\Unit* columns to *US_dollar* and *Time* respectively. Then we will change the *Time* column data into *datetime* data type. "
   ]
  },
  {
   "cell_type": "code",
   "execution_count": 28,
   "metadata": {},
   "outputs": [],
   "source": [
    "exchange_rates.rename(columns={'[US dollar ]':'US_dollar', 'Period\\\\Unit:':'Time'},inplace=True)\n",
    "\n",
    "\n",
    "exchange_rates['Time'] = pd.to_datetime(exchange_rates['Time'])\n",
    "exchange_rates.sort_values('Time', inplace=True)\n",
    "\n",
    "#reset the index of the dataset\n",
    "exchange_rates.reset_index(drop=True, inplace=True)"
   ]
  },
  {
   "cell_type": "markdown",
   "metadata": {},
   "source": [
    "Next we will create a new dataset called *euro_to_dollar* with just *Time* and *US_dollar* columns. "
   ]
  },
  {
   "cell_type": "code",
   "execution_count": 29,
   "metadata": {},
   "outputs": [
    {
     "data": {
      "text/html": [
       "<div>\n",
       "<style scoped>\n",
       "    .dataframe tbody tr th:only-of-type {\n",
       "        vertical-align: middle;\n",
       "    }\n",
       "\n",
       "    .dataframe tbody tr th {\n",
       "        vertical-align: top;\n",
       "    }\n",
       "\n",
       "    .dataframe thead th {\n",
       "        text-align: right;\n",
       "    }\n",
       "</style>\n",
       "<table border=\"1\" class=\"dataframe\">\n",
       "  <thead>\n",
       "    <tr style=\"text-align: right;\">\n",
       "      <th></th>\n",
       "      <th>Time</th>\n",
       "      <th>US_dollar</th>\n",
       "    </tr>\n",
       "  </thead>\n",
       "  <tbody>\n",
       "    <tr>\n",
       "      <th>0</th>\n",
       "      <td>1999-01-04</td>\n",
       "      <td>1.1789</td>\n",
       "    </tr>\n",
       "    <tr>\n",
       "      <th>1</th>\n",
       "      <td>1999-01-05</td>\n",
       "      <td>1.1790</td>\n",
       "    </tr>\n",
       "    <tr>\n",
       "      <th>2</th>\n",
       "      <td>1999-01-06</td>\n",
       "      <td>1.1743</td>\n",
       "    </tr>\n",
       "    <tr>\n",
       "      <th>3</th>\n",
       "      <td>1999-01-07</td>\n",
       "      <td>1.1632</td>\n",
       "    </tr>\n",
       "    <tr>\n",
       "      <th>4</th>\n",
       "      <td>1999-01-08</td>\n",
       "      <td>1.1659</td>\n",
       "    </tr>\n",
       "    <tr>\n",
       "      <th>...</th>\n",
       "      <td>...</td>\n",
       "      <td>...</td>\n",
       "    </tr>\n",
       "    <tr>\n",
       "      <th>5694</th>\n",
       "      <td>2021-01-04</td>\n",
       "      <td>1.2296</td>\n",
       "    </tr>\n",
       "    <tr>\n",
       "      <th>5695</th>\n",
       "      <td>2021-01-05</td>\n",
       "      <td>1.2271</td>\n",
       "    </tr>\n",
       "    <tr>\n",
       "      <th>5696</th>\n",
       "      <td>2021-01-06</td>\n",
       "      <td>1.2338</td>\n",
       "    </tr>\n",
       "    <tr>\n",
       "      <th>5697</th>\n",
       "      <td>2021-01-07</td>\n",
       "      <td>1.2276</td>\n",
       "    </tr>\n",
       "    <tr>\n",
       "      <th>5698</th>\n",
       "      <td>2021-01-08</td>\n",
       "      <td>1.2250</td>\n",
       "    </tr>\n",
       "  </tbody>\n",
       "</table>\n",
       "<p>5699 rows × 2 columns</p>\n",
       "</div>"
      ],
      "text/plain": [
       "           Time US_dollar\n",
       "0    1999-01-04    1.1789\n",
       "1    1999-01-05    1.1790\n",
       "2    1999-01-06    1.1743\n",
       "3    1999-01-07    1.1632\n",
       "4    1999-01-08    1.1659\n",
       "...         ...       ...\n",
       "5694 2021-01-04    1.2296\n",
       "5695 2021-01-05    1.2271\n",
       "5696 2021-01-06    1.2338\n",
       "5697 2021-01-07    1.2276\n",
       "5698 2021-01-08    1.2250\n",
       "\n",
       "[5699 rows x 2 columns]"
      ]
     },
     "execution_count": 29,
     "metadata": {},
     "output_type": "execute_result"
    }
   ],
   "source": [
    "euro_to_dollar = exchange_rates[['Time', 'US_dollar']]\n",
    "euro_to_dollar"
   ]
  },
  {
   "cell_type": "markdown",
   "metadata": {},
   "source": [
    "Now let us look at the *US_dollar* column closely. We will use *Series.value_counts()* and check all the values first."
   ]
  },
  {
   "cell_type": "code",
   "execution_count": 30,
   "metadata": {},
   "outputs": [
    {
     "data": {
      "text/plain": [
       "-         62\n",
       "1.2276     9\n",
       "1.1215     8\n",
       "1.1305     7\n",
       "1.3086     6\n",
       "          ..\n",
       "1.0894     1\n",
       "1.4692     1\n",
       "1.2278     1\n",
       "1.1108     1\n",
       "1.2657     1\n",
       "Name: US_dollar, Length: 3528, dtype: int64"
      ]
     },
     "execution_count": 30,
     "metadata": {},
     "output_type": "execute_result"
    }
   ],
   "source": [
    "euro_to_dollar['US_dollar'].value_counts()"
   ]
  },
  {
   "cell_type": "markdown",
   "metadata": {},
   "source": [
    "Here on the first row it is showing '-' as a value. We will drop all the rows with '-' symbol. And then convert the data-type to *float*."
   ]
  },
  {
   "cell_type": "code",
   "execution_count": 31,
   "metadata": {},
   "outputs": [
    {
     "name": "stderr",
     "output_type": "stream",
     "text": [
      "<ipython-input-31-76a23175a1a3>:1: SettingWithCopyWarning: \n",
      "A value is trying to be set on a copy of a slice from a DataFrame.\n",
      "Try using .loc[row_indexer,col_indexer] = value instead\n",
      "\n",
      "See the caveats in the documentation: https://pandas.pydata.org/pandas-docs/stable/user_guide/indexing.html#returning-a-view-versus-a-copy\n",
      "  euro_to_dollar['US_dollar'] = euro_to_dollar.loc[:, 'US_dollar'].str.replace('-','')\n"
     ]
    },
    {
     "data": {
      "text/plain": [
       "1.2276    9\n",
       "1.1215    8\n",
       "1.1305    7\n",
       "1.1193    6\n",
       "1.1218    6\n",
       "         ..\n",
       "1.0894    1\n",
       "1.4692    1\n",
       "1.2278    1\n",
       "1.1108    1\n",
       "1.2657    1\n",
       "Name: US_dollar, Length: 3527, dtype: int64"
      ]
     },
     "execution_count": 31,
     "metadata": {},
     "output_type": "execute_result"
    }
   ],
   "source": [
    "euro_to_dollar['US_dollar'] = euro_to_dollar.loc[:, 'US_dollar'].str.replace('-','')\n",
    "euro_to_dollar = euro_to_dollar.loc[euro_to_dollar['US_dollar']!='']\n",
    "euro_to_dollar['US_dollar'].value_counts()"
   ]
  },
  {
   "cell_type": "code",
   "execution_count": 32,
   "metadata": {},
   "outputs": [
    {
     "data": {
      "text/plain": [
       "0       1.1789\n",
       "1       1.1790\n",
       "2       1.1743\n",
       "3       1.1632\n",
       "4       1.1659\n",
       "         ...  \n",
       "5694    1.2296\n",
       "5695    1.2271\n",
       "5696    1.2338\n",
       "5697    1.2276\n",
       "5698    1.2250\n",
       "Name: US_dollar, Length: 5637, dtype: float64"
      ]
     },
     "execution_count": 32,
     "metadata": {},
     "output_type": "execute_result"
    }
   ],
   "source": [
    "euro_to_dollar['US_dollar'].astype(float)"
   ]
  },
  {
   "cell_type": "markdown",
   "metadata": {},
   "source": [
    "above we performed multiple tasks. First we renamed the columns, *Period\\\\Unit:* to *Time* and *US dollar* to *US_dollar*. Then we changed the *Time* column to *datetime format*, sorted the values in ascending form and *reset the index*. We isolated the above 2 columns and named the DataFrame *euro_to_dollar*. In the *US_dollar* column we dropped '-' values and changed the format to *float*.     "
   ]
  },
  {
   "cell_type": "markdown",
   "metadata": {},
   "source": [
    "##  Implementing Rolling Mean"
   ]
  },
  {
   "cell_type": "markdown",
   "metadata": {},
   "source": [
    "The *Time* column depicts daily variation in the euro. If we plot the *Time* graph, we will see small wiggles rather than a smooth line. To get rid of these wiggles and to show long-term trends, we can use the **rolling mean (moving average)**. Depending on our objective we can show variations in our graph. We can calculate the rolling mean using *pandas.Series.rolling().mean()* method. Here if we want to calculate the mean for each day, the value will be the mean between the value of that day and the value of the previous day. For the eighth day the mean between eighth day and the seventh day etc. Here the only exception is the first day, which doesn't have a previous day. Below we will calculate the rolling mean for 30 days (one month) and store it in a new column called *rolling_mean*."
   ]
  },
  {
   "cell_type": "code",
   "execution_count": 33,
   "metadata": {},
   "outputs": [
    {
     "name": "stderr",
     "output_type": "stream",
     "text": [
      "<ipython-input-33-42bf7c51dc0c>:1: SettingWithCopyWarning: \n",
      "A value is trying to be set on a copy of a slice from a DataFrame.\n",
      "Try using .loc[row_indexer,col_indexer] = value instead\n",
      "\n",
      "See the caveats in the documentation: https://pandas.pydata.org/pandas-docs/stable/user_guide/indexing.html#returning-a-view-versus-a-copy\n",
      "  euro_to_dollar['rolling_mean'] = euro_to_dollar.loc[:,'US_dollar'].rolling(30).mean()\n"
     ]
    },
    {
     "data": {
      "text/html": [
       "<div>\n",
       "<style scoped>\n",
       "    .dataframe tbody tr th:only-of-type {\n",
       "        vertical-align: middle;\n",
       "    }\n",
       "\n",
       "    .dataframe tbody tr th {\n",
       "        vertical-align: top;\n",
       "    }\n",
       "\n",
       "    .dataframe thead th {\n",
       "        text-align: right;\n",
       "    }\n",
       "</style>\n",
       "<table border=\"1\" class=\"dataframe\">\n",
       "  <thead>\n",
       "    <tr style=\"text-align: right;\">\n",
       "      <th></th>\n",
       "      <th>Time</th>\n",
       "      <th>US_dollar</th>\n",
       "      <th>rolling_mean</th>\n",
       "    </tr>\n",
       "  </thead>\n",
       "  <tbody>\n",
       "    <tr>\n",
       "      <th>0</th>\n",
       "      <td>1999-01-04</td>\n",
       "      <td>1.1789</td>\n",
       "      <td>NaN</td>\n",
       "    </tr>\n",
       "    <tr>\n",
       "      <th>1</th>\n",
       "      <td>1999-01-05</td>\n",
       "      <td>1.1790</td>\n",
       "      <td>NaN</td>\n",
       "    </tr>\n",
       "    <tr>\n",
       "      <th>2</th>\n",
       "      <td>1999-01-06</td>\n",
       "      <td>1.1743</td>\n",
       "      <td>NaN</td>\n",
       "    </tr>\n",
       "    <tr>\n",
       "      <th>3</th>\n",
       "      <td>1999-01-07</td>\n",
       "      <td>1.1632</td>\n",
       "      <td>NaN</td>\n",
       "    </tr>\n",
       "    <tr>\n",
       "      <th>4</th>\n",
       "      <td>1999-01-08</td>\n",
       "      <td>1.1659</td>\n",
       "      <td>NaN</td>\n",
       "    </tr>\n",
       "    <tr>\n",
       "      <th>...</th>\n",
       "      <td>...</td>\n",
       "      <td>...</td>\n",
       "      <td>...</td>\n",
       "    </tr>\n",
       "    <tr>\n",
       "      <th>5694</th>\n",
       "      <td>2021-01-04</td>\n",
       "      <td>1.2296</td>\n",
       "      <td>1.211170</td>\n",
       "    </tr>\n",
       "    <tr>\n",
       "      <th>5695</th>\n",
       "      <td>2021-01-05</td>\n",
       "      <td>1.2271</td>\n",
       "      <td>1.212530</td>\n",
       "    </tr>\n",
       "    <tr>\n",
       "      <th>5696</th>\n",
       "      <td>2021-01-06</td>\n",
       "      <td>1.2338</td>\n",
       "      <td>1.213987</td>\n",
       "    </tr>\n",
       "    <tr>\n",
       "      <th>5697</th>\n",
       "      <td>2021-01-07</td>\n",
       "      <td>1.2276</td>\n",
       "      <td>1.215357</td>\n",
       "    </tr>\n",
       "    <tr>\n",
       "      <th>5698</th>\n",
       "      <td>2021-01-08</td>\n",
       "      <td>1.2250</td>\n",
       "      <td>1.216557</td>\n",
       "    </tr>\n",
       "  </tbody>\n",
       "</table>\n",
       "<p>5637 rows × 3 columns</p>\n",
       "</div>"
      ],
      "text/plain": [
       "           Time US_dollar  rolling_mean\n",
       "0    1999-01-04    1.1789           NaN\n",
       "1    1999-01-05    1.1790           NaN\n",
       "2    1999-01-06    1.1743           NaN\n",
       "3    1999-01-07    1.1632           NaN\n",
       "4    1999-01-08    1.1659           NaN\n",
       "...         ...       ...           ...\n",
       "5694 2021-01-04    1.2296      1.211170\n",
       "5695 2021-01-05    1.2271      1.212530\n",
       "5696 2021-01-06    1.2338      1.213987\n",
       "5697 2021-01-07    1.2276      1.215357\n",
       "5698 2021-01-08    1.2250      1.216557\n",
       "\n",
       "[5637 rows x 3 columns]"
      ]
     },
     "execution_count": 33,
     "metadata": {},
     "output_type": "execute_result"
    }
   ],
   "source": [
    "euro_to_dollar['rolling_mean'] = euro_to_dollar.loc[:,'US_dollar'].rolling(30).mean()\n",
    "euro_to_dollar"
   ]
  },
  {
   "cell_type": "markdown",
   "metadata": {},
   "source": [
    "Above we can see that for first 30 rows of the column *rolling_mean* has *NaN* values."
   ]
  },
  {
   "cell_type": "markdown",
   "metadata": {},
   "source": [
    "## Coming Up With an Idea on Story Telling Data Visualization"
   ]
  },
  {
   "cell_type": "markdown",
   "metadata": {},
   "source": [
    "Below we will show how the euro-dollar rate has changed under the last three US presidents:\n",
    "* George W. Bush (2001-2009)\n",
    "* Barack Obama (2009-2017)\n",
    "* Donald Trump (2017-2021)\n",
    "\n",
    "We will use a line plot for this purpose and style *fivethirtyeight*."
   ]
  },
  {
   "cell_type": "code",
   "execution_count": 34,
   "metadata": {},
   "outputs": [],
   "source": [
    "#import necessary modules\n",
    "%matplotlib inline\n",
    "import matplotlib.pyplot as plt\n",
    "import matplotlib.style as style\n",
    "import datetime as dt"
   ]
  },
  {
   "cell_type": "code",
   "execution_count": 35,
   "metadata": {},
   "outputs": [
    {
     "data": {
      "image/png": "[encoded data removed]",
      "text/plain": [
       "<Figure size 600x800 with 3 Axes>"
      ]
     },
     "metadata": {},
     "output_type": "display_data"
    }
   ],
   "source": [
    "style.use('fivethirtyeight')\n",
    "fig, (ax1, ax2, ax3) = plt.subplots(nrows=3, ncols=1, figsize=(6, 8))\n",
    "axes = [ax1, ax2, ax3]\n",
    "for ax in axes:\n",
    "    ax.plot(euro_to_dollar['Time'], euro_to_dollar['rolling_mean'], color='#692a38', alpha=0.1)\n",
    "    ax.set_xticklabels([1999, 2000, 2004, 2008, 2012, 2016, 2020], fontsize=8)\n",
    "    ax.set_yticklabels([0.0, 1.0, 1.2, 1.4, 1.6], fontsize=8)\n",
    "    ax.tick_params(left=0, bottom=0)\n",
    "    for location in ['left', 'right', 'bottom', 'top']:\n",
    "        ax.spines[location].set_visible(False)\n",
    "\n",
    "ax1.plot(euro_to_dollar['Time'][260:2615], euro_to_dollar['rolling_mean'][260:2615], color='#893fe2', linewidth=2.5)\n",
    "ax2.plot(euro_to_dollar['Time'][2615:4680], euro_to_dollar['rolling_mean'][2615:4680], color='#ca2e3a', linewidth=2.5)\n",
    "ax3.plot(euro_to_dollar['Time'][4680:], euro_to_dollar['rolling_mean'][4680:], color='#ff8000', linewidth=2.5)\n",
    "\n",
    "ax1.text(dt.date(2000, 1,15), 1.02, '$1.013',weight='bold', size=7, alpha=0.7)\n",
    "ax1.text(dt.date(2008, 4,29), 1.6, '$1.574',weight='bold',size=7, alpha=0.7)\n",
    "ax1.text(dt.date(2014, 5,8), 1.4, '$1.382',weight='bold',size=7, alpha=0.7)\n",
    "ax1.text(dt.date(2021, 1,8), 1.2, '$1.216',weight='bold',size=7, alpha=0.7)\n",
    "ax1.text(dt.date(1999, 1, 4), 1.5, 'George.W.Bush(2001-2009)',size=9,color='#893fe2', weight='bold')\n",
    "ax2.text(dt.date(1999, 1, 4), 1.5, 'Barack Obama(2009-2017)',size=9,color='#ca2e3a', weight='bold')\n",
    "ax3.text(dt.date(1999, 1, 4), 1.5, 'Donald Trump(2017-2021)',size=9, color='#ff8000', weight='bold')\n",
    "ax.text(-0.04,3.6, 'Average Exchange Rates from Euro to US Dollar under the \\nlast three US presidents',transform=ax.transAxes, size=12, weight='bold')\n",
    "ax.text(-0.04, 3.5, 'Average exchange rate is ~ $1.19 per euro', transform=ax.transAxes, size=10, weight='bold')\n",
    "ax.text(-0.04, -0.2, '@DATAQUEST'+' '*69+'Source:European Central Bank', transform=ax.transAxes, color='#f0f0f0', backgroundcolor='#4d4d4d', size=9)\n",
    "plt.show()"
   ]
  },
  {
   "cell_type": "markdown",
   "metadata": {},
   "source": [
    "Above graph shows the average exchange rates between *euro* and *US dollars* during the ruling of last three US presidents. We used three rows for three presidents and highlighted their tenure in the respective rows labelling thier names. The x-axis is the *Time* (in years) and y-axis is the *exchange rate* (in dollars). During Bush's tenure the exchange rate which was at *\\$1.013* in the year 2000, fell initially then rose gradually to *\\$1.574* in the year 2008. Later it kept on fluctuating with slight decrease in the rate and reached *\\$1.382* in the year 2014 during Obama's tenure. Then there is a sudden decrease. After the year 2016 there is a steady fluctuation and the value reached *\\$1.216* by the end of Trumps tenure. "
   ]
  },
  {
   "cell_type": "markdown",
   "metadata": {},
   "source": [
    "## Analysing the Exchange Rates of Euro and Indian Rupee"
   ]
  },
  {
   "cell_type": "markdown",
   "metadata": {},
   "source": [
    "In this section we are going to analyze the exchange rates between *euro* and *Indian Rupee* in a similar way we analysed the *US Dollars*. First we will rename the *Indian rupee* column to *snakecase*. Then we will check the count of each value in the *rupee* column in order see if there are any other values than the numeric ones."
   ]
  },
  {
   "cell_type": "code",
   "execution_count": 36,
   "metadata": {},
   "outputs": [
    {
     "data": {
      "text/html": [
       "<div>\n",
       "<style scoped>\n",
       "    .dataframe tbody tr th:only-of-type {\n",
       "        vertical-align: middle;\n",
       "    }\n",
       "\n",
       "    .dataframe tbody tr th {\n",
       "        vertical-align: top;\n",
       "    }\n",
       "\n",
       "    .dataframe thead th {\n",
       "        text-align: right;\n",
       "    }\n",
       "</style>\n",
       "<table border=\"1\" class=\"dataframe\">\n",
       "  <thead>\n",
       "    <tr style=\"text-align: right;\">\n",
       "      <th></th>\n",
       "      <th>Time</th>\n",
       "      <th>Indian_rupee</th>\n",
       "    </tr>\n",
       "  </thead>\n",
       "  <tbody>\n",
       "    <tr>\n",
       "      <th>0</th>\n",
       "      <td>1999-01-04</td>\n",
       "      <td>NaN</td>\n",
       "    </tr>\n",
       "    <tr>\n",
       "      <th>1</th>\n",
       "      <td>1999-01-05</td>\n",
       "      <td>NaN</td>\n",
       "    </tr>\n",
       "    <tr>\n",
       "      <th>2</th>\n",
       "      <td>1999-01-06</td>\n",
       "      <td>NaN</td>\n",
       "    </tr>\n",
       "    <tr>\n",
       "      <th>3</th>\n",
       "      <td>1999-01-07</td>\n",
       "      <td>NaN</td>\n",
       "    </tr>\n",
       "    <tr>\n",
       "      <th>4</th>\n",
       "      <td>1999-01-08</td>\n",
       "      <td>NaN</td>\n",
       "    </tr>\n",
       "    <tr>\n",
       "      <th>...</th>\n",
       "      <td>...</td>\n",
       "      <td>...</td>\n",
       "    </tr>\n",
       "    <tr>\n",
       "      <th>5694</th>\n",
       "      <td>2021-01-04</td>\n",
       "      <td>89.7890</td>\n",
       "    </tr>\n",
       "    <tr>\n",
       "      <th>5695</th>\n",
       "      <td>2021-01-05</td>\n",
       "      <td>89.8670</td>\n",
       "    </tr>\n",
       "    <tr>\n",
       "      <th>5696</th>\n",
       "      <td>2021-01-06</td>\n",
       "      <td>90.2040</td>\n",
       "    </tr>\n",
       "    <tr>\n",
       "      <th>5697</th>\n",
       "      <td>2021-01-07</td>\n",
       "      <td>90.0455</td>\n",
       "    </tr>\n",
       "    <tr>\n",
       "      <th>5698</th>\n",
       "      <td>2021-01-08</td>\n",
       "      <td>89.7975</td>\n",
       "    </tr>\n",
       "  </tbody>\n",
       "</table>\n",
       "<p>5699 rows × 2 columns</p>\n",
       "</div>"
      ],
      "text/plain": [
       "           Time Indian_rupee\n",
       "0    1999-01-04          NaN\n",
       "1    1999-01-05          NaN\n",
       "2    1999-01-06          NaN\n",
       "3    1999-01-07          NaN\n",
       "4    1999-01-08          NaN\n",
       "...         ...          ...\n",
       "5694 2021-01-04      89.7890\n",
       "5695 2021-01-05      89.8670\n",
       "5696 2021-01-06      90.2040\n",
       "5697 2021-01-07      90.0455\n",
       "5698 2021-01-08      89.7975\n",
       "\n",
       "[5699 rows x 2 columns]"
      ]
     },
     "execution_count": 36,
     "metadata": {},
     "output_type": "execute_result"
    }
   ],
   "source": [
    "exchange_rates.rename(columns={'[Indian rupee ]':'Indian_rupee'},inplace=True)\n",
    "\n",
    "euro_indian_rupee = exchange_rates[['Time', 'Indian_rupee']]\n",
    "\n",
    "euro_indian_rupee"
   ]
  },
  {
   "cell_type": "code",
   "execution_count": 37,
   "metadata": {},
   "outputs": [
    {
     "data": {
      "text/plain": [
       "-          61\n",
       "70.1100     3\n",
       "85.0840     3\n",
       "55.0470     3\n",
       "69.7590     3\n",
       "           ..\n",
       "57.4347     1\n",
       "76.3786     1\n",
       "71.5935     1\n",
       "54.3670     1\n",
       "53.4950     1\n",
       "Name: Indian_rupee, Length: 5133, dtype: int64"
      ]
     },
     "execution_count": 37,
     "metadata": {},
     "output_type": "execute_result"
    }
   ],
   "source": [
    "#apply Series.value_counts() method to rupee column in order to look at the value counts\n",
    "euro_indian_rupee['Indian_rupee'].value_counts()"
   ]
  },
  {
   "cell_type": "markdown",
   "metadata": {},
   "source": [
    "Here again we observe '-' (hyphen) as a value. We will drop this from the column *Indian_rupee* and change the data-type to *float*."
   ]
  },
  {
   "cell_type": "code",
   "execution_count": 38,
   "metadata": {},
   "outputs": [
    {
     "name": "stderr",
     "output_type": "stream",
     "text": [
      "<ipython-input-38-5f9e564adcc6>:1: SettingWithCopyWarning: \n",
      "A value is trying to be set on a copy of a slice from a DataFrame.\n",
      "Try using .loc[row_indexer,col_indexer] = value instead\n",
      "\n",
      "See the caveats in the documentation: https://pandas.pydata.org/pandas-docs/stable/user_guide/indexing.html#returning-a-view-versus-a-copy\n",
      "  euro_indian_rupee['Indian_rupee'] = euro_indian_rupee.loc[:, 'Indian_rupee'].str.replace('-','')\n"
     ]
    },
    {
     "data": {
      "text/plain": [
       "58.0010    3\n",
       "69.7590    3\n",
       "57.7250    3\n",
       "56.5980    3\n",
       "85.0840    3\n",
       "          ..\n",
       "57.4347    1\n",
       "76.3786    1\n",
       "71.5935    1\n",
       "54.3670    1\n",
       "53.4950    1\n",
       "Name: Indian_rupee, Length: 5132, dtype: int64"
      ]
     },
     "execution_count": 38,
     "metadata": {},
     "output_type": "execute_result"
    }
   ],
   "source": [
    "euro_indian_rupee['Indian_rupee'] = euro_indian_rupee.loc[:, 'Indian_rupee'].str.replace('-','')\n",
    "euro_indian_rupee = euro_indian_rupee.loc[euro_indian_rupee['Indian_rupee']!='']\n",
    "euro_indian_rupee['Indian_rupee'].astype(float)\n",
    "euro_indian_rupee['Indian_rupee'].value_counts()"
   ]
  },
  {
   "cell_type": "markdown",
   "metadata": {},
   "source": [
    "We have succesfully dropped the value '-'. Next we will calculate the rolling mean for the rupee taking average for 30 days and store the values in a new column called *rolling_mean*."
   ]
  },
  {
   "cell_type": "code",
   "execution_count": 39,
   "metadata": {},
   "outputs": [
    {
     "name": "stderr",
     "output_type": "stream",
     "text": [
      "<ipython-input-39-bdd0f2bc6052>:1: SettingWithCopyWarning: \n",
      "A value is trying to be set on a copy of a slice from a DataFrame.\n",
      "Try using .loc[row_indexer,col_indexer] = value instead\n",
      "\n",
      "See the caveats in the documentation: https://pandas.pydata.org/pandas-docs/stable/user_guide/indexing.html#returning-a-view-versus-a-copy\n",
      "  euro_indian_rupee['rolling_mean'] = euro_indian_rupee.loc[:,'Indian_rupee'].rolling(30).mean()\n"
     ]
    },
    {
     "data": {
      "text/html": [
       "<div>\n",
       "<style scoped>\n",
       "    .dataframe tbody tr th:only-of-type {\n",
       "        vertical-align: middle;\n",
       "    }\n",
       "\n",
       "    .dataframe tbody tr th {\n",
       "        vertical-align: top;\n",
       "    }\n",
       "\n",
       "    .dataframe thead th {\n",
       "        text-align: right;\n",
       "    }\n",
       "</style>\n",
       "<table border=\"1\" class=\"dataframe\">\n",
       "  <thead>\n",
       "    <tr style=\"text-align: right;\">\n",
       "      <th></th>\n",
       "      <th>Time</th>\n",
       "      <th>Indian_rupee</th>\n",
       "      <th>rolling_mean</th>\n",
       "    </tr>\n",
       "  </thead>\n",
       "  <tbody>\n",
       "    <tr>\n",
       "      <th>0</th>\n",
       "      <td>1999-01-04</td>\n",
       "      <td>NaN</td>\n",
       "      <td>NaN</td>\n",
       "    </tr>\n",
       "    <tr>\n",
       "      <th>1</th>\n",
       "      <td>1999-01-05</td>\n",
       "      <td>NaN</td>\n",
       "      <td>NaN</td>\n",
       "    </tr>\n",
       "    <tr>\n",
       "      <th>2</th>\n",
       "      <td>1999-01-06</td>\n",
       "      <td>NaN</td>\n",
       "      <td>NaN</td>\n",
       "    </tr>\n",
       "    <tr>\n",
       "      <th>3</th>\n",
       "      <td>1999-01-07</td>\n",
       "      <td>NaN</td>\n",
       "      <td>NaN</td>\n",
       "    </tr>\n",
       "    <tr>\n",
       "      <th>4</th>\n",
       "      <td>1999-01-08</td>\n",
       "      <td>NaN</td>\n",
       "      <td>NaN</td>\n",
       "    </tr>\n",
       "    <tr>\n",
       "      <th>...</th>\n",
       "      <td>...</td>\n",
       "      <td>...</td>\n",
       "      <td>...</td>\n",
       "    </tr>\n",
       "    <tr>\n",
       "      <th>5694</th>\n",
       "      <td>2021-01-04</td>\n",
       "      <td>89.7890</td>\n",
       "      <td>89.262363</td>\n",
       "    </tr>\n",
       "    <tr>\n",
       "      <th>5695</th>\n",
       "      <td>2021-01-05</td>\n",
       "      <td>89.8670</td>\n",
       "      <td>89.326563</td>\n",
       "    </tr>\n",
       "    <tr>\n",
       "      <th>5696</th>\n",
       "      <td>2021-01-06</td>\n",
       "      <td>90.2040</td>\n",
       "      <td>89.396563</td>\n",
       "    </tr>\n",
       "    <tr>\n",
       "      <th>5697</th>\n",
       "      <td>2021-01-07</td>\n",
       "      <td>90.0455</td>\n",
       "      <td>89.467930</td>\n",
       "    </tr>\n",
       "    <tr>\n",
       "      <th>5698</th>\n",
       "      <td>2021-01-08</td>\n",
       "      <td>89.7975</td>\n",
       "      <td>89.532713</td>\n",
       "    </tr>\n",
       "  </tbody>\n",
       "</table>\n",
       "<p>5638 rows × 3 columns</p>\n",
       "</div>"
      ],
      "text/plain": [
       "           Time Indian_rupee  rolling_mean\n",
       "0    1999-01-04          NaN           NaN\n",
       "1    1999-01-05          NaN           NaN\n",
       "2    1999-01-06          NaN           NaN\n",
       "3    1999-01-07          NaN           NaN\n",
       "4    1999-01-08          NaN           NaN\n",
       "...         ...          ...           ...\n",
       "5694 2021-01-04      89.7890     89.262363\n",
       "5695 2021-01-05      89.8670     89.326563\n",
       "5696 2021-01-06      90.2040     89.396563\n",
       "5697 2021-01-07      90.0455     89.467930\n",
       "5698 2021-01-08      89.7975     89.532713\n",
       "\n",
       "[5638 rows x 3 columns]"
      ]
     },
     "execution_count": 39,
     "metadata": {},
     "output_type": "execute_result"
    }
   ],
   "source": [
    "euro_indian_rupee['rolling_mean'] = euro_indian_rupee.loc[:,'Indian_rupee'].rolling(30).mean()\n",
    "euro_indian_rupee"
   ]
  },
  {
   "cell_type": "markdown",
   "metadata": {},
   "source": [
    "Now We will use the dataset *euro_indian_rupee* and make a line plot using matplotlib style *bmh* and study the graph. We will segregate the data from 1999 to 2021 into three parts as follows.\n",
    "\n",
    "* NDA-1 (1999-2004)\n",
    "* UPA (2004-2014)\n",
    "* NDA-2 (2014-2021)\n",
    "\n",
    "These are the 3 ruling parties from 1999 till 2021."
   ]
  },
  {
   "cell_type": "code",
   "execution_count": 40,
   "metadata": {},
   "outputs": [
    {
     "data": {
      "image/png": "[encoded data removed]",
      "text/plain": [
       "<Figure size 900x300 with 1 Axes>"
      ]
     },
     "metadata": {},
     "output_type": "display_data"
    },
    {
     "data": {
      "image/png": "[encoded data removed]",
      "text/plain": [
       "<Figure size 900x300 with 3 Axes>"
      ]
     },
     "metadata": {},
     "output_type": "display_data"
    }
   ],
   "source": [
    "style.use('bmh')\n",
    "fig, ax = plt.subplots(nrows=1, ncols=1, figsize=(9, 3))\n",
    "ax.plot(euro_indian_rupee['Time'], euro_indian_rupee['rolling_mean'], alpha=0.2)\n",
    "ax.tick_params(left=0,bottom=0)\n",
    "for location in ['left', 'right', 'bottom', 'top']:\n",
    "    ax.spines[location].set_visible(False)\n",
    "\n",
    "ax.plot(euro_indian_rupee['Time'][0:1380], euro_indian_rupee['rolling_mean'][0:1380], color='#68aa55')\n",
    "ax.plot(euro_indian_rupee['Time'][1380:3940], euro_indian_rupee['rolling_mean'][1380:3940], color='#e9887c')\n",
    "ax.plot(euro_indian_rupee['Time'][3940:], euro_indian_rupee['rolling_mean'][3940:], color='#73d5bc')\n",
    "ax.set_xticklabels(['', 2000, 2004, 2008, 2012, 2016, 2020], fontsize=10, weight='bold')\n",
    "ax.set_yticklabels(['',40, 50, 60, 70, 80, 90], fontsize=10, weight='bold')\n",
    "ax.text(-0.04,1.1, \"Average Exchange Rates from Euro to Indian Rupee between 1999 and 2021\",transform=ax.transAxes, size=13, weight='bold')\n",
    "ax.text(-0.04,1, \"Average Exchange Rate is ~ \\u20B964.52 per euro\", transform=ax.transAxes, size=11, weight='bold')\n",
    "plt.show()\n",
    "\n",
    "style.use('bmh')\n",
    "fig, (ax1, ax2, ax3) = plt.subplots(nrows=1, ncols=3, figsize=(9, 3))\n",
    "axes = [ax1, ax2, ax3]\n",
    "for location in ['left', 'right', 'bottom', 'top']:\n",
    "    ax1.spines[location].set_visible(False)\n",
    "    ax2.spines[location].set_visible(False)\n",
    "    ax3.spines[location].set_visible(False)\n",
    "\n",
    "ax1.plot(euro_indian_rupee['Time'][0:1380], euro_indian_rupee['rolling_mean'][0:1380], color='#68aa55', linewidth=2.5)\n",
    "ax1.set_xlim(dt.date(2000,1,4), dt.date(2004,4,19))\n",
    "ax1.set_xticks([dt.date(2000,1,4), dt.date(2001,1,4), dt.date(2002,1,4), dt.date(2003,1,4), dt.date(2004,1,4)])\n",
    "ax1.set_ylim(35, 60)\n",
    "ax1.set_yticks([35,40,45,50,55,60])\n",
    "ax1.set_xticklabels([2000,2001,2002,2003,2004],fontsize=8, weight='bold')\n",
    "ax1.set_yticklabels(['',40, 45, 50, 55, 60], fontsize=8, weight='bold')\n",
    "ax1.tick_params(left=0, bottom=0)\n",
    "ax2.plot(euro_indian_rupee['Time'][1380:3940], euro_indian_rupee['rolling_mean'][1380:3940], color='#e9887c', linewidth=2.5)\n",
    "ax2.set_xlim(dt.date(2004,4,20), dt.date(2014,4,21))\n",
    "ax2.set_xticks([dt.date(2004,4,20), dt.date(2006,4,19), dt.date(2008,4,19), dt.date(2010,4,19), dt.date(2012,4,19), dt.date(2014,4,19)])\n",
    "ax2.set_xticklabels([2004,2006,2008,2010,2012, 2014], fontsize=8, weight='bold')\n",
    "ax2.set_ylim(50,90)\n",
    "ax2.set_yticks([50,60,70,80,90])\n",
    "ax2.set_yticklabels(['', 60, 70, 80, 90], fontsize=8, weight='bold')\n",
    "ax2.tick_params(left=0, bottom=0, which='major', labelsize=8)\n",
    "ax3.plot(euro_indian_rupee['Time'][3940:], euro_indian_rupee['rolling_mean'][3940:], color='#73d5bc', linewidth=2.5)\n",
    "ax3.set_xlim(dt.date(2014,4,20), dt.date(2021,1,8))\n",
    "ax3.set_xticks([dt.date(2014,4,20),dt.date(2015,4,20), dt.date(2016,4,20),dt.date(2017,4,20), dt.date(2018,4,20), dt.date(2019,4,20), dt.date(2020,4,8), dt.date(2021,1,8)])\n",
    "ax3.set_xticklabels([2014,2015, 2016,2017, 2018,2019, 2020], fontsize=8, weight='bold')\n",
    "ax3.set_ylim(65, 90)\n",
    "ax3.set_yticks([65,70,75,80,85,90])\n",
    "ax3.set_yticklabels(['',70, 75, 80, 85, 90], fontsize=8, weight='bold')\n",
    "ax3.tick_params(left=0, bottom=0)\n",
    "ax1.text(dt.date(2000, 1, 4), 58, 'NDA-1(1999-2004)',size=9,color='#68aa55', weight='bold')\n",
    "ax2.text(dt.date(2004, 6, 20), 87, 'UPA(2004-2014)',size=9,color='#e9887c', weight='bold')\n",
    "ax3.text(dt.date(2014, 6, 4), 88, 'NDA-2(2014-2021)',size=9, color='#73d5bc', weight='bold')\n",
    "ax1.text(-0.04, -0.08, '@DATAQUEST'+' '*127+'Source:European Central Bank', transform=ax.transAxes, color='#f0f0f0', backgroundcolor='#4d4d4d', size=9)\n",
    "plt.show()"
   ]
  },
  {
   "cell_type": "markdown",
   "metadata": {},
   "source": [
    "We have plotted the graph dividing it into three seperate categories. We have built two rows. In the first row we have plotted all together and in the second row we have plotted them seperately for more clarity. From the above graph we observe that the exchange rate for Indian rupee has kept on increasing from 1999 till 2021 from *40 rupees* to *90 rupees* respectively. The graph looks more like a linear curve. "
   ]
  },
  {
   "cell_type": "markdown",
   "metadata": {},
   "source": [
    "## Comparing the Exchange Rates of Chinese Yuan Renminbi, UK Pound and Australian Dollar"
   ]
  },
  {
   "cell_type": "markdown",
   "metadata": {},
   "source": [
    "In this section we will compare the exchange rates of three different countries. \n",
    "* Chinese Yuan Renminbi\n",
    "* UK Pound\n",
    "* Australian Dollar\n",
    "\n",
    "We will follow the same method as we did earlier. First we will rename the column names to *snakecase*. Then we will count the values in the column and drop the non-numeric values. We will also convert the data-type to *float*. We will store these corrected columns in a new dataset. Lastly we will calculate the *rolling mean* for all the currency columns and make a line plot comparing the euro exchange rate data points for three countries. "
   ]
  },
  {
   "cell_type": "markdown",
   "metadata": {},
   "source": [
    "### China"
   ]
  },
  {
   "cell_type": "code",
   "execution_count": 41,
   "metadata": {},
   "outputs": [
    {
     "data": {
      "text/plain": [
       "-         61\n",
       "7.2862     5\n",
       "7.4270     4\n",
       "7.3028     4\n",
       "7.7945     4\n",
       "          ..\n",
       "8.4061     1\n",
       "7.9742     1\n",
       "7.8683     1\n",
       "7.7712     1\n",
       "9.7711     1\n",
       "Name: chinese_yuan, Length: 4799, dtype: int64"
      ]
     },
     "execution_count": 41,
     "metadata": {},
     "output_type": "execute_result"
    }
   ],
   "source": [
    "exchange_rates.rename(columns = {'[Chinese yuan renminbi ]':'chinese_yuan', '[UK pound sterling ]':'UK_pound', '[Australian dollar ]':'Australian_dollar'}, inplace=True)\n",
    "euro_to_chin_yuan = exchange_rates[['Time', 'chinese_yuan']]\n",
    "euro_to_chin_yuan['chinese_yuan'].value_counts()"
   ]
  },
  {
   "cell_type": "code",
   "execution_count": 42,
   "metadata": {},
   "outputs": [
    {
     "name": "stderr",
     "output_type": "stream",
     "text": [
      "<ipython-input-42-cdcfa8e4612f>:1: SettingWithCopyWarning: \n",
      "A value is trying to be set on a copy of a slice from a DataFrame.\n",
      "Try using .loc[row_indexer,col_indexer] = value instead\n",
      "\n",
      "See the caveats in the documentation: https://pandas.pydata.org/pandas-docs/stable/user_guide/indexing.html#returning-a-view-versus-a-copy\n",
      "  euro_to_chin_yuan['chinese_yuan'] = euro_to_chin_yuan.loc[:,'chinese_yuan'].str.replace('-', '')\n"
     ]
    },
    {
     "data": {
      "text/plain": [
       "7.2862    5\n",
       "7.4270    4\n",
       "7.7945    4\n",
       "7.3823    4\n",
       "8.1586    4\n",
       "         ..\n",
       "9.0202    1\n",
       "8.4061    1\n",
       "7.9742    1\n",
       "7.8683    1\n",
       "9.7711    1\n",
       "Name: chinese_yuan, Length: 4798, dtype: int64"
      ]
     },
     "execution_count": 42,
     "metadata": {},
     "output_type": "execute_result"
    }
   ],
   "source": [
    "euro_to_chin_yuan['chinese_yuan'] = euro_to_chin_yuan.loc[:,'chinese_yuan'].str.replace('-', '')\n",
    "euro_to_chin_yuan = euro_to_chin_yuan.loc[euro_to_chin_yuan['chinese_yuan'] != '']\n",
    "euro_to_chin_yuan['chinese_yuan'].astype(float)\n",
    "euro_to_chin_yuan['chinese_yuan'].value_counts()"
   ]
  },
  {
   "cell_type": "code",
   "execution_count": 43,
   "metadata": {},
   "outputs": [
    {
     "data": {
      "text/html": [
       "<div>\n",
       "<style scoped>\n",
       "    .dataframe tbody tr th:only-of-type {\n",
       "        vertical-align: middle;\n",
       "    }\n",
       "\n",
       "    .dataframe tbody tr th {\n",
       "        vertical-align: top;\n",
       "    }\n",
       "\n",
       "    .dataframe thead th {\n",
       "        text-align: right;\n",
       "    }\n",
       "</style>\n",
       "<table border=\"1\" class=\"dataframe\">\n",
       "  <thead>\n",
       "    <tr style=\"text-align: right;\">\n",
       "      <th></th>\n",
       "      <th>Time</th>\n",
       "      <th>chinese_yuan</th>\n",
       "      <th>rolling_mean</th>\n",
       "    </tr>\n",
       "  </thead>\n",
       "  <tbody>\n",
       "    <tr>\n",
       "      <th>0</th>\n",
       "      <td>1999-01-04</td>\n",
       "      <td>NaN</td>\n",
       "      <td>NaN</td>\n",
       "    </tr>\n",
       "    <tr>\n",
       "      <th>1</th>\n",
       "      <td>1999-01-05</td>\n",
       "      <td>NaN</td>\n",
       "      <td>NaN</td>\n",
       "    </tr>\n",
       "    <tr>\n",
       "      <th>2</th>\n",
       "      <td>1999-01-06</td>\n",
       "      <td>NaN</td>\n",
       "      <td>NaN</td>\n",
       "    </tr>\n",
       "    <tr>\n",
       "      <th>3</th>\n",
       "      <td>1999-01-07</td>\n",
       "      <td>NaN</td>\n",
       "      <td>NaN</td>\n",
       "    </tr>\n",
       "    <tr>\n",
       "      <th>4</th>\n",
       "      <td>1999-01-08</td>\n",
       "      <td>NaN</td>\n",
       "      <td>NaN</td>\n",
       "    </tr>\n",
       "    <tr>\n",
       "      <th>...</th>\n",
       "      <td>...</td>\n",
       "      <td>...</td>\n",
       "      <td>...</td>\n",
       "    </tr>\n",
       "    <tr>\n",
       "      <th>5694</th>\n",
       "      <td>2021-01-04</td>\n",
       "      <td>7.9484</td>\n",
       "      <td>7.928793</td>\n",
       "    </tr>\n",
       "    <tr>\n",
       "      <th>5695</th>\n",
       "      <td>2021-01-05</td>\n",
       "      <td>7.9315</td>\n",
       "      <td>7.933457</td>\n",
       "    </tr>\n",
       "    <tr>\n",
       "      <th>5696</th>\n",
       "      <td>2021-01-06</td>\n",
       "      <td>7.9653</td>\n",
       "      <td>7.938373</td>\n",
       "    </tr>\n",
       "    <tr>\n",
       "      <th>5697</th>\n",
       "      <td>2021-01-07</td>\n",
       "      <td>7.9392</td>\n",
       "      <td>7.942507</td>\n",
       "    </tr>\n",
       "    <tr>\n",
       "      <th>5698</th>\n",
       "      <td>2021-01-08</td>\n",
       "      <td>7.9184</td>\n",
       "      <td>7.945823</td>\n",
       "    </tr>\n",
       "  </tbody>\n",
       "</table>\n",
       "<p>5638 rows × 3 columns</p>\n",
       "</div>"
      ],
      "text/plain": [
       "           Time chinese_yuan  rolling_mean\n",
       "0    1999-01-04          NaN           NaN\n",
       "1    1999-01-05          NaN           NaN\n",
       "2    1999-01-06          NaN           NaN\n",
       "3    1999-01-07          NaN           NaN\n",
       "4    1999-01-08          NaN           NaN\n",
       "...         ...          ...           ...\n",
       "5694 2021-01-04       7.9484      7.928793\n",
       "5695 2021-01-05       7.9315      7.933457\n",
       "5696 2021-01-06       7.9653      7.938373\n",
       "5697 2021-01-07       7.9392      7.942507\n",
       "5698 2021-01-08       7.9184      7.945823\n",
       "\n",
       "[5638 rows x 3 columns]"
      ]
     },
     "execution_count": 43,
     "metadata": {},
     "output_type": "execute_result"
    }
   ],
   "source": [
    "euro_to_chin_yuan['rolling_mean'] = euro_to_chin_yuan.loc[:, 'chinese_yuan'].rolling(30).mean()\n",
    "euro_to_chin_yuan"
   ]
  },
  {
   "cell_type": "markdown",
   "metadata": {},
   "source": [
    "### UK"
   ]
  },
  {
   "cell_type": "code",
   "execution_count": 44,
   "metadata": {},
   "outputs": [
    {
     "data": {
      "text/plain": [
       "-          62\n",
       "0.68880     7\n",
       "0.63040     7\n",
       "0.90430     7\n",
       "0.87750     7\n",
       "           ..\n",
       "0.79910     1\n",
       "0.73650     1\n",
       "0.88413     1\n",
       "0.68905     1\n",
       "0.88075     1\n",
       "Name: UK_pound, Length: 3470, dtype: int64"
      ]
     },
     "execution_count": 44,
     "metadata": {},
     "output_type": "execute_result"
    }
   ],
   "source": [
    "euro_to_UK_pound = exchange_rates[['Time', 'UK_pound']]\n",
    "euro_to_UK_pound['UK_pound'].value_counts()"
   ]
  },
  {
   "cell_type": "code",
   "execution_count": 45,
   "metadata": {},
   "outputs": [
    {
     "name": "stderr",
     "output_type": "stream",
     "text": [
      "<ipython-input-45-37d42c923349>:1: SettingWithCopyWarning: \n",
      "A value is trying to be set on a copy of a slice from a DataFrame.\n",
      "Try using .loc[row_indexer,col_indexer] = value instead\n",
      "\n",
      "See the caveats in the documentation: https://pandas.pydata.org/pandas-docs/stable/user_guide/indexing.html#returning-a-view-versus-a-copy\n",
      "  euro_to_UK_pound['UK_pound'] = euro_to_UK_pound.loc[:,'UK_pound'].str.replace('-', '')\n"
     ]
    },
    {
     "data": {
      "text/plain": [
       "0       0.71110\n",
       "1       0.71220\n",
       "2       0.70760\n",
       "3       0.70585\n",
       "4       0.70940\n",
       "         ...   \n",
       "5694    0.90160\n",
       "5695    0.90333\n",
       "5696    0.90635\n",
       "5697    0.90190\n",
       "5698    0.90128\n",
       "Name: UK_pound, Length: 5637, dtype: float64"
      ]
     },
     "execution_count": 45,
     "metadata": {},
     "output_type": "execute_result"
    }
   ],
   "source": [
    "euro_to_UK_pound['UK_pound'] = euro_to_UK_pound.loc[:,'UK_pound'].str.replace('-', '')\n",
    "euro_to_UK_pound = euro_to_UK_pound.loc[euro_to_UK_pound['UK_pound'] != '']\n",
    "euro_to_UK_pound['UK_pound'].astype(float)"
   ]
  },
  {
   "cell_type": "code",
   "execution_count": 46,
   "metadata": {},
   "outputs": [
    {
     "data": {
      "text/html": [
       "<div>\n",
       "<style scoped>\n",
       "    .dataframe tbody tr th:only-of-type {\n",
       "        vertical-align: middle;\n",
       "    }\n",
       "\n",
       "    .dataframe tbody tr th {\n",
       "        vertical-align: top;\n",
       "    }\n",
       "\n",
       "    .dataframe thead th {\n",
       "        text-align: right;\n",
       "    }\n",
       "</style>\n",
       "<table border=\"1\" class=\"dataframe\">\n",
       "  <thead>\n",
       "    <tr style=\"text-align: right;\">\n",
       "      <th></th>\n",
       "      <th>Time</th>\n",
       "      <th>UK_pound</th>\n",
       "      <th>rolling_mean</th>\n",
       "    </tr>\n",
       "  </thead>\n",
       "  <tbody>\n",
       "    <tr>\n",
       "      <th>0</th>\n",
       "      <td>1999-01-04</td>\n",
       "      <td>0.71110</td>\n",
       "      <td>NaN</td>\n",
       "    </tr>\n",
       "    <tr>\n",
       "      <th>1</th>\n",
       "      <td>1999-01-05</td>\n",
       "      <td>0.71220</td>\n",
       "      <td>NaN</td>\n",
       "    </tr>\n",
       "    <tr>\n",
       "      <th>2</th>\n",
       "      <td>1999-01-06</td>\n",
       "      <td>0.70760</td>\n",
       "      <td>NaN</td>\n",
       "    </tr>\n",
       "    <tr>\n",
       "      <th>3</th>\n",
       "      <td>1999-01-07</td>\n",
       "      <td>0.70585</td>\n",
       "      <td>NaN</td>\n",
       "    </tr>\n",
       "    <tr>\n",
       "      <th>4</th>\n",
       "      <td>1999-01-08</td>\n",
       "      <td>0.70940</td>\n",
       "      <td>NaN</td>\n",
       "    </tr>\n",
       "    <tr>\n",
       "      <th>...</th>\n",
       "      <td>...</td>\n",
       "      <td>...</td>\n",
       "      <td>...</td>\n",
       "    </tr>\n",
       "    <tr>\n",
       "      <th>5694</th>\n",
       "      <td>2021-01-04</td>\n",
       "      <td>0.90160</td>\n",
       "      <td>0.902912</td>\n",
       "    </tr>\n",
       "    <tr>\n",
       "      <th>5695</th>\n",
       "      <td>2021-01-05</td>\n",
       "      <td>0.90333</td>\n",
       "      <td>0.903225</td>\n",
       "    </tr>\n",
       "    <tr>\n",
       "      <th>5696</th>\n",
       "      <td>2021-01-06</td>\n",
       "      <td>0.90635</td>\n",
       "      <td>0.903807</td>\n",
       "    </tr>\n",
       "    <tr>\n",
       "      <th>5697</th>\n",
       "      <td>2021-01-07</td>\n",
       "      <td>0.90190</td>\n",
       "      <td>0.904200</td>\n",
       "    </tr>\n",
       "    <tr>\n",
       "      <th>5698</th>\n",
       "      <td>2021-01-08</td>\n",
       "      <td>0.90128</td>\n",
       "      <td>0.904533</td>\n",
       "    </tr>\n",
       "  </tbody>\n",
       "</table>\n",
       "<p>5637 rows × 3 columns</p>\n",
       "</div>"
      ],
      "text/plain": [
       "           Time UK_pound  rolling_mean\n",
       "0    1999-01-04  0.71110           NaN\n",
       "1    1999-01-05  0.71220           NaN\n",
       "2    1999-01-06  0.70760           NaN\n",
       "3    1999-01-07  0.70585           NaN\n",
       "4    1999-01-08  0.70940           NaN\n",
       "...         ...      ...           ...\n",
       "5694 2021-01-04  0.90160      0.902912\n",
       "5695 2021-01-05  0.90333      0.903225\n",
       "5696 2021-01-06  0.90635      0.903807\n",
       "5697 2021-01-07  0.90190      0.904200\n",
       "5698 2021-01-08  0.90128      0.904533\n",
       "\n",
       "[5637 rows x 3 columns]"
      ]
     },
     "execution_count": 46,
     "metadata": {},
     "output_type": "execute_result"
    }
   ],
   "source": [
    "euro_to_UK_pound['rolling_mean'] = euro_to_UK_pound.loc[:, 'UK_pound'].rolling(30).mean()\n",
    "euro_to_UK_pound"
   ]
  },
  {
   "cell_type": "markdown",
   "metadata": {},
   "source": [
    "### Australia"
   ]
  },
  {
   "cell_type": "code",
   "execution_count": 47,
   "metadata": {},
   "outputs": [
    {
     "name": "stderr",
     "output_type": "stream",
     "text": [
      "<ipython-input-47-d5b46f1b9eba>:3: SettingWithCopyWarning: \n",
      "A value is trying to be set on a copy of a slice from a DataFrame.\n",
      "Try using .loc[row_indexer,col_indexer] = value instead\n",
      "\n",
      "See the caveats in the documentation: https://pandas.pydata.org/pandas-docs/stable/user_guide/indexing.html#returning-a-view-versus-a-copy\n",
      "  euro_to_Australian_dollar['Australian_dollar'] = euro_to_Australian_dollar.loc[:,'Australian_dollar'].str.replace('-', '')\n"
     ]
    },
    {
     "data": {
      "text/html": [
       "<div>\n",
       "<style scoped>\n",
       "    .dataframe tbody tr th:only-of-type {\n",
       "        vertical-align: middle;\n",
       "    }\n",
       "\n",
       "    .dataframe tbody tr th {\n",
       "        vertical-align: top;\n",
       "    }\n",
       "\n",
       "    .dataframe thead th {\n",
       "        text-align: right;\n",
       "    }\n",
       "</style>\n",
       "<table border=\"1\" class=\"dataframe\">\n",
       "  <thead>\n",
       "    <tr style=\"text-align: right;\">\n",
       "      <th></th>\n",
       "      <th>Time</th>\n",
       "      <th>Australian_dollar</th>\n",
       "      <th>rolling_mean</th>\n",
       "    </tr>\n",
       "  </thead>\n",
       "  <tbody>\n",
       "    <tr>\n",
       "      <th>0</th>\n",
       "      <td>1999-01-04</td>\n",
       "      <td>1.9100</td>\n",
       "      <td>NaN</td>\n",
       "    </tr>\n",
       "    <tr>\n",
       "      <th>1</th>\n",
       "      <td>1999-01-05</td>\n",
       "      <td>1.8944</td>\n",
       "      <td>NaN</td>\n",
       "    </tr>\n",
       "    <tr>\n",
       "      <th>2</th>\n",
       "      <td>1999-01-06</td>\n",
       "      <td>1.8820</td>\n",
       "      <td>NaN</td>\n",
       "    </tr>\n",
       "    <tr>\n",
       "      <th>3</th>\n",
       "      <td>1999-01-07</td>\n",
       "      <td>1.8474</td>\n",
       "      <td>NaN</td>\n",
       "    </tr>\n",
       "    <tr>\n",
       "      <th>4</th>\n",
       "      <td>1999-01-08</td>\n",
       "      <td>1.8406</td>\n",
       "      <td>NaN</td>\n",
       "    </tr>\n",
       "    <tr>\n",
       "      <th>...</th>\n",
       "      <td>...</td>\n",
       "      <td>...</td>\n",
       "      <td>...</td>\n",
       "    </tr>\n",
       "    <tr>\n",
       "      <th>5694</th>\n",
       "      <td>2021-01-04</td>\n",
       "      <td>1.5928</td>\n",
       "      <td>1.616687</td>\n",
       "    </tr>\n",
       "    <tr>\n",
       "      <th>5695</th>\n",
       "      <td>2021-01-05</td>\n",
       "      <td>1.5927</td>\n",
       "      <td>1.615687</td>\n",
       "    </tr>\n",
       "    <tr>\n",
       "      <th>5696</th>\n",
       "      <td>2021-01-06</td>\n",
       "      <td>1.5824</td>\n",
       "      <td>1.614323</td>\n",
       "    </tr>\n",
       "    <tr>\n",
       "      <th>5697</th>\n",
       "      <td>2021-01-07</td>\n",
       "      <td>1.5836</td>\n",
       "      <td>1.613193</td>\n",
       "    </tr>\n",
       "    <tr>\n",
       "      <th>5698</th>\n",
       "      <td>2021-01-08</td>\n",
       "      <td>1.5758</td>\n",
       "      <td>1.611753</td>\n",
       "    </tr>\n",
       "  </tbody>\n",
       "</table>\n",
       "<p>5637 rows × 3 columns</p>\n",
       "</div>"
      ],
      "text/plain": [
       "           Time Australian_dollar  rolling_mean\n",
       "0    1999-01-04            1.9100           NaN\n",
       "1    1999-01-05            1.8944           NaN\n",
       "2    1999-01-06            1.8820           NaN\n",
       "3    1999-01-07            1.8474           NaN\n",
       "4    1999-01-08            1.8406           NaN\n",
       "...         ...               ...           ...\n",
       "5694 2021-01-04            1.5928      1.616687\n",
       "5695 2021-01-05            1.5927      1.615687\n",
       "5696 2021-01-06            1.5824      1.614323\n",
       "5697 2021-01-07            1.5836      1.613193\n",
       "5698 2021-01-08            1.5758      1.611753\n",
       "\n",
       "[5637 rows x 3 columns]"
      ]
     },
     "execution_count": 47,
     "metadata": {},
     "output_type": "execute_result"
    }
   ],
   "source": [
    "euro_to_Australian_dollar = exchange_rates[['Time', 'Australian_dollar']]\n",
    "euro_to_Australian_dollar['Australian_dollar'].value_counts()\n",
    "euro_to_Australian_dollar['Australian_dollar'] = euro_to_Australian_dollar.loc[:,'Australian_dollar'].str.replace('-', '')\n",
    "euro_to_Australian_dollar = euro_to_Australian_dollar.loc[euro_to_Australian_dollar['Australian_dollar'] != '']\n",
    "euro_to_Australian_dollar['Australian_dollar'].astype(float)\n",
    "euro_to_Australian_dollar['rolling_mean'] = euro_to_Australian_dollar.loc[:, 'Australian_dollar'].rolling(30).mean()\n",
    "euro_to_Australian_dollar "
   ]
  },
  {
   "cell_type": "markdown",
   "metadata": {},
   "source": [
    "Below we will plot the euro exhange rates for all the three countries and study their behavior."
   ]
  },
  {
   "cell_type": "code",
   "execution_count": 48,
   "metadata": {},
   "outputs": [
    {
     "data": {
      "image/png": "[encoded data removed]",
      "text/plain": [
       "<Figure size 600x800 with 3 Axes>"
      ]
     },
     "metadata": {},
     "output_type": "display_data"
    }
   ],
   "source": [
    "#plot the line graph for above 3 countries using matplotlib style 'ggplot'\n",
    "style.use('ggplot')\n",
    "fig, (ax1, ax2, ax3) = plt.subplots(nrows=3, ncols=1, figsize=(6, 8))\n",
    "axes = [ax1, ax2, ax3]\n",
    "for ax in axes:\n",
    "    ax1.plot(euro_to_chin_yuan['Time'], euro_to_chin_yuan['rolling_mean'], color='#ff3366')\n",
    "#     ax1.set_xticklabels([])\n",
    "    ax2.plot(euro_to_UK_pound['Time'], euro_to_UK_pound['rolling_mean'], color='#ff9966')\n",
    "#     ax2.set_xticklabels([])\n",
    "    ax3.plot(euro_to_Australian_dollar['Time'], euro_to_Australian_dollar['rolling_mean'], color='grey')\n",
    "    ax.tick_params(left=0, bottom=0)\n",
    "    for location in ['left', 'right', 'bottom', 'top']:\n",
    "        ax.spines[location].set_visible(False)\n",
    "    ax1.text(dt.date(1999,10,4), 10.8, 'China Yuan', color='#ff3366', weight='bold')\n",
    "    ax1.text(dt.date(2008,10,4), 10.8, 'Average exchange rate is ~ ¥8.61 per euro', color='#ff3366')\n",
    "    ax2.text(dt.date(1999,1,4), 0.84, 'Average exchange rate is\\n ~ £0.77 per euro', color='#ff9966')\n",
    "    ax2.text(dt.date(1999,1,4), 0.9, 'UK Pound', color='#ff9966', weight='bold')\n",
    "    ax3.text(dt.date(1999,1,4), 1.95, 'Australian Dollar', color='grey', weight='bold')\n",
    "    ax3.text(dt.date(2010,5,4), 1.88, 'Average exchange rate is\\n ~ $1.58 per euro', color='grey')\n",
    "    \n",
    "plt.show()    "
   ]
  },
  {
   "cell_type": "markdown",
   "metadata": {},
   "source": [
    "Above we plotted *euro exchange rate* for *China*, *UK*, and *Australia* in the first, second, and third rows respectively. We have also mentioned the average exchange rate for each country in the plot. Below we will explain the trend for these three countries one by one. \n",
    "\n",
    "* For China the exchange rate was at *8 yuan* in 2008. Then it increased to *11 yuan* in the year 2005 and till 2008 was almost at the same value. After that started to decrease gradually with small ups and downs and reached lowest (below 7) in the year 2016. Then it started increasing at a low pace and reached *8 yuan* by 2020.\n",
    "\n",
    "* For UK in the year 2000 the exchange rate was lowest at *0.6 pounds*. After that it started to increase with slight variation reaching *~ 0.9 pounds* in the year 2009. After that till 2020, it is almost at the same value with occational ups and downs.\n",
    "\n",
    "* For Australia the euro exchange rate was at *~ 1.7 dollars* from 2000 till 2008. Then there is a sharp rise in the dollar to *2* and a sudden decrease to *1.2 dollars* by the year 2012. After 2012 it started to increase gradually and reached *~ 1.6 dollars* by 2020.\n",
    "\n",
    "* Careful observation of these graphs reveal that during 2009 recession Chinese yuan and Australian dollar was affected to a great extent compared to UK's pound. This is aparent from graph. The Chinese yuan and Australian Dollar show  a steeper dip. Where as UK's pound is more stable."
   ]
  },
  {
   "cell_type": "markdown",
   "metadata": {},
   "source": [
    "## Conclusions"
   ]
  },
  {
   "cell_type": "markdown",
   "metadata": {},
   "source": [
    "The project we worked on is on *Story Telling Data Visualization on Exchange Rates*. Here we studied the yearly trend of euro exchange rate for different countries from 1999 till 2021. Before making any plot we cleaned the data by renaming the currency column of every country into *snake-case* from *camal-case* and *Period\\Unit* column to *Time* column. We also calculated the *rolling mean* for the currency column in order to get a comparatively smooth curve. Below we list our observations:-\n",
    "\n",
    "*  We studied the variation of euro exchange rates with US dollars in detail under the last three US presidents George W. Bush (2001-2009), Barack Obama (2009-2017), and Donald Trump (2017-2021). The average exchange rate is ~1.19 dollars per euro. During Bush's tenure the exchange rate which was at *\\$1.013* in the year 2000, fell initially then rose gradually to *\\$1.574* in the year 2008. Later it kept on fluctuating with slight decrease in the rate and reached *\\$1.382* in the year 2014 during Obama's tenure. Then there is a sudden decrease. After the year 2016 there is a steady fluctuation and the value reached *\\$1.216* by the end of Trumps tenure. \n",
    "\n",
    "* We studied the variation of euro exchange rate of Indian Rupeee. Here we studied the data under three different governments NDA-1 (1999-2004), UPA-1 (2004-2014) and NDA-2 (2014-2021). We observed that the Indian Rupee kept on increasing in a linear fashion from 40 rupees in 1999 to 90 rupees in 2021 with an average exchange rate of 64.52 rupees per euro. \n",
    "\n",
    "* At last we compared euro exchange rate for three different countries, China (Yuan), UK (Pound), and Australia (Dollar). Country's currency and euro rate change shows different patterns for each country. \n",
    " * The average exchange rate is *8.61 Yuan per euro*. Yuan went through a peak between 2004 and 2008 at *11 Yuan per euro*. Then dropped gradually below 7 Yuan per euro.  \n",
    " * The average exchange rate for UK pound is *0.77 euro*. The pound kept on increasing from *0.6 per euro* in 2000 to *0.9 per euro* in 2020. \n",
    " * The average exchange rate for Australian dollar is *1.58 per euro*. The Australian dollar is almost steady except between 2008 and 2012, where it goes through a peak initially and then a dip.\n",
    " * According to the graph during the 2009 great recession, Chinese Yuan and Astralian Dollar went through a steep dip where as UK's Pound remained stable. "
   ]
  }
 ],
 "metadata": {
  "kernelspec": {
   "display_name": "Python 3",
   "language": "python",
   "name": "python3"
  },
  "language_info": {
   "codemirror_mode": {
    "name": "ipython",
    "version": 3
   },
   "file_extension": ".py",
   "mimetype": "text/x-python",
   "name": "python",
   "nbconvert_exporter": "python",
   "pygments_lexer": "ipython3",
   "version": "3.8.2"
  }
 },
 "nbformat": 4,
 "nbformat_minor": 4
}
